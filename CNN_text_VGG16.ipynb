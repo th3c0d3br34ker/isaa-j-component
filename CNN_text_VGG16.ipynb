{
 "cells": [
  {
   "cell_type": "code",
   "execution_count": 1,
   "metadata": {
    "scrolled": true
   },
   "outputs": [
    {
     "name": "stderr",
     "output_type": "stream",
     "text": [
      "Using TensorFlow backend.\n"
     ]
    }
   ],
   "source": [
    "# Importing all the necessary libraries\n",
    "import keras\n",
    "import h5py\n",
    "from keras import optimizers\n",
    "from keras.models import load_model\n",
    "from keras.layers import Bidirectional\n",
    "from Multimodal_baseline_Functions import *\n",
    "from keras.layers.core import Reshape, Dropout\n",
    "from keras.utils.vis_utils import plot_model\n",
    "import os\n",
    "import matplotlib.pyplot as plt\n",
    "from keras.layers import Conv1D, MaxPooling1D, Flatten, GlobalAveragePooling3D\n",
    "from keras import regularizers\n",
    "import seaborn as sns\n",
    "import matplotlib.pyplot as plt   \n",
    "from sklearn.metrics import confusion_matrix\n",
    "from keras import regularizers  \n",
    "from keras.applications.inception_v3 import InceptionV3"
   ]
  },
  {
   "cell_type": "code",
   "execution_count": 2,
   "metadata": {},
   "outputs": [],
   "source": [
    "# Assigning class weights\n",
    "class_weight = {1: 1.4,\n",
    "                0: 1.}"
   ]
  },
  {
   "cell_type": "code",
   "execution_count": 3,
   "metadata": {},
   "outputs": [],
   "source": [
    "GLOVE_DIR = \"E:\\MSc DA\\Sem 2\\Project\\Code and Docmentation\\glove.6B\"\n",
    "EMBEDDING_DIM = 50\n",
    "num_epochs = 7\n",
    "step_epochs = 2\n",
    "val_steps = 149"
   ]
  },
  {
   "cell_type": "code",
   "execution_count": 4,
   "metadata": {},
   "outputs": [],
   "source": [
    "# Defining model with Adam optimizer\n",
    "adam = keras.optimizers.Adam(lr=0.001, beta_1=0.9, beta_2=0.999, epsilon=None, decay=0.0, amsgrad=False)\n",
    "sgd = optimizers.SGD(lr=0.001, decay=1e-6, momentum=0.9, nesterov=True)\n",
    "adadelta = optimizers.Adadelta(lr=1.0, rho=0.95, epsilon=None, decay=0.0)"
   ]
  },
  {
   "cell_type": "code",
   "execution_count": 5,
   "metadata": {},
   "outputs": [],
   "source": [
    "def Image_model(base_model):\n",
    "    # Freezing all the trainable layers\n",
    "    for layer in base_model.layers:\n",
    "        layer.trainable = False\n",
    "\n",
    "    # Creating output layer\n",
    "    x = base_model.output\n",
    "    # Adding pooling layer before the output\n",
    "    x = GlobalAveragePooling2D()(x)\n",
    "    # Adding a fully-connected layer\n",
    "    # x = Dense(1024, activation='relu')(x)\n",
    "    # and a logistic layer with 2 classes\n",
    "    return x"
   ]
  },
  {
   "cell_type": "code",
   "execution_count": 6,
   "metadata": {},
   "outputs": [],
   "source": [
    "def read_data(file_name):\n",
    "  #Opening file\n",
    "    with open(file_name,'r', encoding=\"utf8\") as f:\n",
    "      #Creating empty set and dictonary for vocab and word respectively\n",
    "        word_vocab = set() \n",
    "        word2vector = {}\n",
    "        #Iterating over each line of file\n",
    "        for line in f:\n",
    "            #Spliting lines\n",
    "            line_ = line.strip() \n",
    "            #Splitting words\n",
    "            words_Vec = line_.split()            \n",
    "            word_vocab.add(words_Vec[0])\n",
    "            word2vector[words_Vec[0]] = np.array(words_Vec[1:],dtype=float)\n",
    "    print(\"Total Words in DataSet:\",len(word_vocab))\n",
    "    return word_vocab,word2vector"
   ]
  },
  {
   "cell_type": "code",
   "execution_count": 7,
   "metadata": {},
   "outputs": [],
   "source": [
    "# Dividing data in test, train, validation\n",
    "training_DF, testing_DF, validation_DF = preprocess_text(Training_path,Validation_path, Testing_path)"
   ]
  },
  {
   "cell_type": "code",
   "execution_count": 9,
   "metadata": {},
   "outputs": [
    {
     "data": {
      "text/html": [
       "<div>\n",
       "<style scoped>\n",
       "    .dataframe tbody tr th:only-of-type {\n",
       "        vertical-align: middle;\n",
       "    }\n",
       "\n",
       "    .dataframe tbody tr th {\n",
       "        vertical-align: top;\n",
       "    }\n",
       "\n",
       "    .dataframe thead th {\n",
       "        text-align: right;\n",
       "    }\n",
       "</style>\n",
       "<table border=\"1\" class=\"dataframe\">\n",
       "  <thead>\n",
       "    <tr style=\"text-align: right;\">\n",
       "      <th></th>\n",
       "      <th>image_name</th>\n",
       "      <th>sentence</th>\n",
       "      <th>label</th>\n",
       "    </tr>\n",
       "  </thead>\n",
       "  <tbody>\n",
       "    <tr>\n",
       "      <th>0</th>\n",
       "      <td>LJ3r8Gy.jpg.png</td>\n",
       "      <td>official bernie sanders drinking game every ti...</td>\n",
       "      <td>0</td>\n",
       "    </tr>\n",
       "    <tr>\n",
       "      <th>1</th>\n",
       "      <td>qDnIIHA.png</td>\n",
       "      <td>228 pm wall inside nazi gas chamber dwebs demo...</td>\n",
       "      <td>1</td>\n",
       "    </tr>\n",
       "    <tr>\n",
       "      <th>2</th>\n",
       "      <td>1JQk5NF.png</td>\n",
       "      <td>shit waddup bernie sanders com</td>\n",
       "      <td>1</td>\n",
       "    </tr>\n",
       "    <tr>\n",
       "      <th>3</th>\n",
       "      <td>iMMNq.png</td>\n",
       "      <td>mitt romney worst republican country putup bar...</td>\n",
       "      <td>0</td>\n",
       "    </tr>\n",
       "    <tr>\n",
       "      <th>4</th>\n",
       "      <td>jAi3iI1.png</td>\n",
       "      <td>anonymous id duqda1io 08 05 16 fri 163248 8423...</td>\n",
       "      <td>0</td>\n",
       "    </tr>\n",
       "  </tbody>\n",
       "</table>\n",
       "</div>"
      ],
      "text/plain": [
       "        image_name                                           sentence  label\n",
       "0  LJ3r8Gy.jpg.png  official bernie sanders drinking game every ti...      0\n",
       "1      qDnIIHA.png  228 pm wall inside nazi gas chamber dwebs demo...      1\n",
       "2      1JQk5NF.png                     shit waddup bernie sanders com      1\n",
       "3        iMMNq.png  mitt romney worst republican country putup bar...      0\n",
       "4      jAi3iI1.png  anonymous id duqda1io 08 05 16 fri 163248 8423...      0"
      ]
     },
     "execution_count": 9,
     "metadata": {},
     "output_type": "execute_result"
    }
   ],
   "source": [
    "training_DF.head()"
   ]
  },
  {
   "cell_type": "code",
   "execution_count": 10,
   "metadata": {},
   "outputs": [],
   "source": [
    "# Processing image and text for each set\n",
    "# Creating train, test and validation image path\n",
    "train_img_path = create_img_path(training_DF,'image_name', img_dir)\n",
    "test_img_path = create_img_path(testing_DF,'image_name', img_dir)\n",
    "val_img_path = create_img_path(validation_DF,'image_name', img_dir)\n",
    "\n",
    "# Processing the text\n",
    "training_DF['sentence'] = training_DF['sentence'].apply(clean_text)\n",
    "testing_DF['sentence'] = testing_DF['sentence'].apply(clean_text)\n",
    "validation_DF['sentence'] = validation_DF['sentence'].apply(clean_text)"
   ]
  },
  {
   "cell_type": "code",
   "execution_count": 11,
   "metadata": {},
   "outputs": [],
   "source": [
    "# Vectorising text\n",
    "# process the whole observation into single list\n",
    "train_text_list=list(training_DF['sentence'])\n",
    "test_text_list = list(testing_DF['sentence'])\n",
    "val_text_list = list(validation_DF['sentence'])\n",
    "\n",
    "# Creating vectors for train, test, validation\n",
    "tokenizer = Tokenizer(num_words=1000)\n",
    "tokenizer.fit_on_texts(train_text_list)\n",
    "sequences_train = tokenizer.texts_to_sequences(train_text_list)\n",
    "sequences_test = tokenizer.texts_to_sequences(test_text_list)\n",
    "sequences_val = tokenizer.texts_to_sequences(val_text_list)\n",
    "\n",
    "x_train = preprocessing.sequence.pad_sequences(sequences_train, maxlen=maxlen)\n",
    "x_test = preprocessing.sequence.pad_sequences(sequences_test, maxlen=maxlen)\n",
    "x_val = preprocessing.sequence.pad_sequences(sequences_val, maxlen=maxlen)\n",
    "\n",
    "# encoding all the labels \n",
    "y_test = testing_DF['label']\n",
    "y_train = training_DF['label']\n",
    "y_val = validation_DF['label']"
   ]
  },
  {
   "cell_type": "code",
   "execution_count": 12,
   "metadata": {},
   "outputs": [],
   "source": [
    "# Creating train, test, val, generator for meme\n",
    "img_txt_gen_train = img_text_generator(train_img_path, x_train, y_train, batch_size=32)\n",
    "img_txt_gen_test = img_text_generator(test_img_path, x_test, y_test, batch_size=1)\n",
    "img_txt_gen_val = img_text_generator(val_img_path, x_val, y_val, batch_size=1)\n",
    "\n",
    "# Creating train, test, val, generator for text\n",
    "txt_gen_train = text_generator(x_train, y_train, batch_size=32)\n",
    "txt_gen_test = text_generator(x_test, y_test, batch_size=1)\n",
    "txt_gen_val = text_generator(x_val, y_val, batch_size=1)\n",
    "\n",
    "# Creating train, test, val, generator for image\n",
    "img_gen_train = image_generator(train_img_path, training_DF, batch_size=32)\n",
    "img_gen_test = image_generator(test_img_path, testing_DF, batch_size=1)\n",
    "img_gen_val = image_generator(val_img_path, validation_DF, batch_size=1)"
   ]
  },
  {
   "cell_type": "code",
   "execution_count": 13,
   "metadata": {},
   "outputs": [
    {
     "name": "stdout",
     "output_type": "stream",
     "text": [
      "Total Words in DataSet: 400000\n"
     ]
    }
   ],
   "source": [
    "vocab, w2v = read_data(os.path.join(GLOVE_DIR, \"glove.6B.50d.txt\"))"
   ]
  },
  {
   "cell_type": "code",
   "execution_count": 14,
   "metadata": {},
   "outputs": [],
   "source": [
    "word_index = tokenizer.word_index\n",
    "num_tokens = len(word_index)"
   ]
  },
  {
   "cell_type": "code",
   "execution_count": 15,
   "metadata": {},
   "outputs": [],
   "source": [
    "#Creating embeddding weight matrix\n",
    "embedding_matrix = np.zeros((num_tokens + 1, EMBEDDING_DIM))\n",
    "\n",
    "for word, i in word_index.items():\n",
    "    embedding_vector = w2v.get(word)\n",
    "    if embedding_vector is not None:\n",
    "        embedding_matrix[i] = embedding_vector"
   ]
  },
  {
   "cell_type": "code",
   "execution_count": 16,
   "metadata": {},
   "outputs": [
    {
     "name": "stderr",
     "output_type": "stream",
     "text": [
      "WARNING: Logging before flag parsing goes to stderr.\n",
      "W0819 21:42:35.398007  3264 deprecation_wrapper.py:119] From f:\\anaconda\\envs\\exp_env\\lib\\site-packages\\keras\\backend\\tensorflow_backend.py:74: The name tf.get_default_graph is deprecated. Please use tf.compat.v1.get_default_graph instead.\n",
      "\n"
     ]
    }
   ],
   "source": [
    "#Creating embedded layer using embedded matrix as weight matrix\n",
    "embedding_layer = Embedding(num_tokens + 1, EMBEDDING_DIM, weights=[embedding_matrix], trainable = False)"
   ]
  },
  {
   "cell_type": "code",
   "execution_count": 17,
   "metadata": {},
   "outputs": [],
   "source": [
    "from keras import regularizers"
   ]
  },
  {
   "cell_type": "code",
   "execution_count": 18,
   "metadata": {},
   "outputs": [
    {
     "name": "stderr",
     "output_type": "stream",
     "text": [
      "W0819 21:42:35.674015  3264 deprecation_wrapper.py:119] From f:\\anaconda\\envs\\exp_env\\lib\\site-packages\\keras\\backend\\tensorflow_backend.py:517: The name tf.placeholder is deprecated. Please use tf.compat.v1.placeholder instead.\n",
      "\n",
      "W0819 21:42:35.698014  3264 deprecation_wrapper.py:119] From f:\\anaconda\\envs\\exp_env\\lib\\site-packages\\keras\\backend\\tensorflow_backend.py:4138: The name tf.random_uniform is deprecated. Please use tf.random.uniform instead.\n",
      "\n",
      "W0819 21:42:35.706017  3264 deprecation_wrapper.py:119] From f:\\anaconda\\envs\\exp_env\\lib\\site-packages\\keras\\backend\\tensorflow_backend.py:174: The name tf.get_default_session is deprecated. Please use tf.compat.v1.get_default_session instead.\n",
      "\n",
      "W0819 21:42:35.706017  3264 deprecation_wrapper.py:119] From f:\\anaconda\\envs\\exp_env\\lib\\site-packages\\keras\\backend\\tensorflow_backend.py:181: The name tf.ConfigProto is deprecated. Please use tf.compat.v1.ConfigProto instead.\n",
      "\n",
      "W0819 21:42:35.874017  3264 deprecation_wrapper.py:119] From f:\\anaconda\\envs\\exp_env\\lib\\site-packages\\keras\\backend\\tensorflow_backend.py:3976: The name tf.nn.max_pool is deprecated. Please use tf.nn.max_pool2d instead.\n",
      "\n"
     ]
    }
   ],
   "source": [
    "# Defining second LSTM\n",
    "main_input = Input(shape=(maxlen,), dtype='int32', name='main_input')\n",
    "# Adding embedding layer\n",
    "embedded_sequences = embedding_layer(main_input)\n",
    "x = Conv1D(128, 5, activation='relu')(embedded_sequences)\n",
    "x = MaxPooling1D(5)(x)\n",
    "x = Conv1D(128, 5, activation='relu')(x)\n",
    "x = MaxPooling1D(5)(x)\n",
    "x = Conv1D(128, 5, activation='relu')(x)\n",
    "x = MaxPooling1D(5)(x)\n",
    "lstm1 = LSTM(32, return_state=True)\n",
    "encoder_outputs,state_h,state_c = (lstm1)(x)\n",
    "states= [state_h,state_c]"
   ]
  },
  {
   "cell_type": "code",
   "execution_count": 19,
   "metadata": {},
   "outputs": [],
   "source": [
    "# Defining second LSTM\n",
    "lstm2=LSTM(32, return_sequences=True, return_state=True)\n",
    "decoder_out,_,_=lstm2(embedded_sequences,initial_state=states)\n",
    "lstm_out = Flatten()(decoder_out)\n",
    "txt_out = Dense(1, activation='sigmoid')(lstm_out)"
   ]
  },
  {
   "cell_type": "code",
   "execution_count": 20,
   "metadata": {},
   "outputs": [],
   "source": [
    "# Defining text model\n",
    "txt_model = Model(inputs = [main_input], outputs=txt_out)"
   ]
  },
  {
   "cell_type": "code",
   "execution_count": 21,
   "metadata": {},
   "outputs": [
    {
     "name": "stderr",
     "output_type": "stream",
     "text": [
      "W0819 21:42:36.878047  3264 deprecation_wrapper.py:119] From f:\\anaconda\\envs\\exp_env\\lib\\site-packages\\keras\\optimizers.py:790: The name tf.train.Optimizer is deprecated. Please use tf.compat.v1.train.Optimizer instead.\n",
      "\n",
      "W0819 21:42:36.890044  3264 deprecation.py:323] From f:\\anaconda\\envs\\exp_env\\lib\\site-packages\\tensorflow\\python\\ops\\nn_impl.py:180: add_dispatch_support.<locals>.wrapper (from tensorflow.python.ops.array_ops) is deprecated and will be removed in a future version.\n",
      "Instructions for updating:\n",
      "Use tf.where in 2.0, which has the same broadcast rule as np.where\n"
     ]
    }
   ],
   "source": [
    "# Compile text model\n",
    "txt_model.compile(loss='binary_crossentropy', optimizer=adam, metrics = [\"accuracy\"])"
   ]
  },
  {
   "cell_type": "code",
   "execution_count": 22,
   "metadata": {},
   "outputs": [],
   "source": [
    "# Plot text model\n",
    "plot_model(txt_model, to_file='CNN_txt_model.png', show_shapes=True, show_layer_names=True)"
   ]
  },
  {
   "cell_type": "code",
   "execution_count": 23,
   "metadata": {},
   "outputs": [
    {
     "name": "stdout",
     "output_type": "stream",
     "text": [
      "Epoch 1/7\n",
      "2/2 [==============================] - 21s 11s/step - loss: 0.8162 - acc: 0.5000 - val_loss: 0.7055 - val_acc: 0.4295\n",
      "Epoch 2/7\n",
      "2/2 [==============================] - 18s 9s/step - loss: 0.8047 - acc: 0.3906 - val_loss: 0.6881 - val_acc: 0.5369\n",
      "Epoch 3/7\n",
      "2/2 [==============================] - 20s 10s/step - loss: 0.7643 - acc: 0.6562 - val_loss: 0.6715 - val_acc: 0.6040\n",
      "Epoch 4/7\n",
      "2/2 [==============================] - 21s 10s/step - loss: 0.8495 - acc: 0.5625 - val_loss: 0.6726 - val_acc: 0.6040\n",
      "Epoch 5/7\n",
      "2/2 [==============================] - 20s 10s/step - loss: 0.8247 - acc: 0.5781 - val_loss: 0.6788 - val_acc: 0.6174\n",
      "Epoch 6/7\n",
      "2/2 [==============================] - 22s 11s/step - loss: 0.8000 - acc: 0.5781 - val_loss: 0.6871 - val_acc: 0.5638\n",
      "Epoch 7/7\n",
      "2/2 [==============================] - 21s 10s/step - loss: 0.8254 - acc: 0.6406 - val_loss: 0.7000 - val_acc: 0.4295\n"
     ]
    },
    {
     "data": {
      "text/plain": [
       "<keras.callbacks.History at 0x258c6b289c8>"
      ]
     },
     "execution_count": 23,
     "metadata": {},
     "output_type": "execute_result"
    }
   ],
   "source": [
    "# Training text model\n",
    "txt_model.fit_generator(txt_gen_train, epochs = num_epochs, validation_steps = val_steps, steps_per_epoch=step_epochs, validation_data=txt_gen_val, shuffle = False, class_weight=class_weight)"
   ]
  },
  {
   "cell_type": "code",
   "execution_count": 24,
   "metadata": {},
   "outputs": [
    {
     "name": "stderr",
     "output_type": "stream",
     "text": [
      "f:\\anaconda\\envs\\exp_env\\lib\\site-packages\\keras\\engine\\network.py:877: UserWarning: Layer lstm_2 was passed non-serializable keyword arguments: {'initial_state': [<tf.Tensor 'lstm_1/while/Exit_3:0' shape=(?, 32) dtype=float32>, <tf.Tensor 'lstm_1/while/Exit_4:0' shape=(?, 32) dtype=float32>]}. They will not be included in the serialized model (and thus will be missing at deserialization time).\n",
      "  '. They will not be included '\n"
     ]
    }
   ],
   "source": [
    "# Saving text model\n",
    "txt_model.save('CNN_txt_model.h5')"
   ]
  },
  {
   "cell_type": "code",
   "execution_count": 25,
   "metadata": {},
   "outputs": [
    {
     "data": {
      "image/png": "[encoded data removed]",
      "text/plain": [
       "<Figure size 432x288 with 1 Axes>"
      ]
     },
     "metadata": {
      "needs_background": "light"
     },
     "output_type": "display_data"
    }
   ],
   "source": [
    "# Plotting training and validation loss \n",
    "loss_values = txt_model.history.history['loss']\n",
    "val_loss_values = txt_model.history.history['val_loss']\n",
    "epochs = range(1, 7 + 1)\n",
    "plt.plot(epochs, loss_values, 'bo', label='Training loss')\n",
    "plt.plot(epochs, val_loss_values, 'b', label='Validation loss')\n",
    "plt.title('Training and validation loss')\n",
    "plt.xlabel('Epochs')\n",
    "plt.ylabel('Loss')\n",
    "plt.legend()\n",
    "plt.show()"
   ]
  },
  {
   "cell_type": "code",
   "execution_count": 26,
   "metadata": {},
   "outputs": [],
   "source": [
    "# Predicting labels using text model\n",
    "y_pred_txt = (txt_model.predict_generator(txt_gen_test,steps = 149))\n",
    "y_pred_txt = np.round(list(itertools.chain(*y_pred_txt)))\n",
    "y_true = y_test.values"
   ]
  },
  {
   "cell_type": "code",
   "execution_count": 70,
   "metadata": {},
   "outputs": [
    {
     "data": {
      "image/png": "[encoded data removed]",
      "text/plain": [
       "<Figure size 432x288 with 2 Axes>"
      ]
     },
     "metadata": {
      "needs_background": "light"
     },
     "output_type": "display_data"
    }
   ],
   "source": [
    "# Confusion matrix\n",
    "labels = [1,0]\n",
    "cm = confusion_matrix(y_true, y_pred_txt, labels)\n",
    "ax= plt.subplot()\n",
    "sns.heatmap(cm, annot=True, ax = ax, cmap='Greens'); #annot=True to annotate cells\n",
    "\n",
    "# labels, title and ticks\n",
    "ax.set_xlabel('Predicted labels');ax.set_ylabel('True labels'); \n",
    "ax.set_title('Confusion Matrix'); \n",
    "ax.xaxis.set_ticklabels(['offensive', 'non-offensive']); ax.yaxis.set_ticklabels(['offensive', 'non-offensive']);\n",
    "plt.show()"
   ]
  },
  {
   "cell_type": "code",
   "execution_count": 28,
   "metadata": {},
   "outputs": [],
   "source": [
    "# Loading pre-trained image model\n",
    "img_model = load_model('VGG16_img_model.h5')"
   ]
  },
  {
   "cell_type": "code",
   "execution_count": 30,
   "metadata": {},
   "outputs": [],
   "source": [
    "# Compiling models\n",
    "txt_model.compile(loss='binary_crossentropy', optimizer=adam, metrics = [\"accuracy\"])\n",
    "img_model.compile(loss='binary_crossentropy', optimizer=adam, metrics = [\"accuracy\"])"
   ]
  },
  {
   "cell_type": "code",
   "execution_count": 31,
   "metadata": {},
   "outputs": [],
   "source": [
    "# Concatenating the output of 2 classifiers\n",
    "con_layer = keras.layers.concatenate([txt_model.output, img_model.output])\n",
    "out = Dense(1,activation='sigmoid')(con_layer)"
   ]
  },
  {
   "cell_type": "code",
   "execution_count": 32,
   "metadata": {},
   "outputs": [],
   "source": [
    "# Defining model input and output\n",
    "com_model = Model(inputs = [img_model.input, txt_model.input], outputs=out)"
   ]
  },
  {
   "cell_type": "code",
   "execution_count": 33,
   "metadata": {},
   "outputs": [],
   "source": [
    "# compiling the combined model\n",
    "com_model.compile(loss='binary_crossentropy', optimizer=adam, metrics = [\"accuracy\"])"
   ]
  },
  {
   "cell_type": "code",
   "execution_count": 34,
   "metadata": {},
   "outputs": [],
   "source": [
    "# Plot model\n",
    "plot_model(com_model, to_file='Two_LSTM_Inception_mul_model.png', show_shapes=True, show_layer_names=True)"
   ]
  },
  {
   "cell_type": "code",
   "execution_count": 35,
   "metadata": {
    "scrolled": false
   },
   "outputs": [
    {
     "name": "stdout",
     "output_type": "stream",
     "text": [
      "Epoch 1/7\n",
      "2/2 [==============================] - 250s 125s/step - loss: 0.8382 - acc: 0.5156 - val_loss: 0.6766 - val_acc: 0.6107\n",
      "Epoch 2/7\n",
      "2/2 [==============================] - 236s 118s/step - loss: 0.8130 - acc: 0.5938 - val_loss: 0.6827 - val_acc: 0.6040\n",
      "Epoch 3/7\n",
      "2/2 [==============================] - 252s 126s/step - loss: 0.7822 - acc: 0.6562 - val_loss: 0.6823 - val_acc: 0.6309\n",
      "Epoch 4/7\n",
      "2/2 [==============================] - 251s 126s/step - loss: 0.8646 - acc: 0.4219 - val_loss: 0.6883 - val_acc: 0.6107\n",
      "Epoch 5/7\n",
      "2/2 [==============================] - 251s 126s/step - loss: 0.7724 - acc: 0.6875 - val_loss: 0.6917 - val_acc: 0.5570\n",
      "Epoch 6/7\n",
      "2/2 [==============================] - 251s 125s/step - loss: 0.8337 - acc: 0.5156 - val_loss: 0.6920 - val_acc: 0.4228\n",
      "Epoch 7/7\n",
      "2/2 [==============================] - 243s 121s/step - loss: 0.7999 - acc: 0.5312 - val_loss: 0.6964 - val_acc: 0.4497\n"
     ]
    },
    {
     "data": {
      "text/plain": [
       "<keras.callbacks.History at 0x258ddf4f288>"
      ]
     },
     "execution_count": 35,
     "metadata": {},
     "output_type": "execute_result"
    }
   ],
   "source": [
    "# Training model\n",
    "com_model.fit_generator(img_txt_gen_train, epochs=7, validation_steps = 149, steps_per_epoch=2, validation_data=img_txt_gen_val, shuffle=False, class_weight=class_weight)"
   ]
  },
  {
   "cell_type": "code",
   "execution_count": 36,
   "metadata": {},
   "outputs": [
    {
     "name": "stderr",
     "output_type": "stream",
     "text": [
      "f:\\anaconda\\envs\\exp_env\\lib\\site-packages\\keras\\engine\\network.py:877: UserWarning: Layer lstm_2 was passed non-serializable keyword arguments: {'initial_state': [<tf.Tensor 'lstm_1/while/Exit_3:0' shape=(?, 32) dtype=float32>, <tf.Tensor 'lstm_1/while/Exit_4:0' shape=(?, 32) dtype=float32>]}. They will not be included in the serialized model (and thus will be missing at deserialization time).\n",
      "  '. They will not be included '\n"
     ]
    }
   ],
   "source": [
    "# saving combined model\n",
    "com_model.save(\"Two_LSTM_Inception_mul_model.h5\")"
   ]
  },
  {
   "cell_type": "code",
   "execution_count": 37,
   "metadata": {
    "scrolled": true
   },
   "outputs": [
    {
     "data": {
      "image/png": "[encoded data removed]",
      "text/plain": [
       "<Figure size 432x288 with 1 Axes>"
      ]
     },
     "metadata": {
      "needs_background": "light"
     },
     "output_type": "display_data"
    }
   ],
   "source": [
    "# Plotting training and validation loss for combined model\n",
    "loss_values = com_model.history.history['loss']\n",
    "val_loss_values = com_model.history.history['val_loss']\n",
    "epochs = range(1, num_epochs + 1)\n",
    "plt.plot(epochs, loss_values, 'bo', label='Training loss')\n",
    "plt.plot(epochs, val_loss_values, 'b', label='Validation loss')\n",
    "plt.title('Training and validation loss')\n",
    "plt.xlabel('Epochs')\n",
    "plt.ylabel('Loss')\n",
    "plt.legend()\n",
    "plt.show()"
   ]
  },
  {
   "cell_type": "code",
   "execution_count": 38,
   "metadata": {},
   "outputs": [],
   "source": [
    "# Predicting true labels using combined classifier\n",
    "y_pred_com = (com_model.predict_generator(img_txt_gen_test,steps = 149))\n",
    "y_pred_com = np.round(list(itertools.chain(*y_pred_com)))"
   ]
  },
  {
   "cell_type": "code",
   "execution_count": 67,
   "metadata": {},
   "outputs": [
    {
     "data": {
      "image/png": "[encoded data removed]",
      "text/plain": [
       "<Figure size 432x288 with 2 Axes>"
      ]
     },
     "metadata": {
      "needs_background": "light"
     },
     "output_type": "display_data"
    }
   ],
   "source": [
    "# Confusion matrix\n",
    "labels = [1,0]\n",
    "cm = confusion_matrix(y_true, y_pred_com, labels)\n",
    "ax= plt.subplot()\n",
    "sns.heatmap(cm, annot=True, ax = ax,cmap='Greens'); #annot=True to annotate cells\n",
    "\n",
    "# labels, title and ticks\n",
    "ax.set_xlabel('Predicted labels');ax.set_ylabel('True labels'); \n",
    "ax.set_title('Confusion Matrix'); \n",
    "ax.xaxis.set_ticklabels(['offensive', 'non-offensive']); ax.yaxis.set_ticklabels(['offensive', 'non-offensive']);\n",
    "# plt.figure(figsize=(5,6))"
   ]
  },
  {
   "cell_type": "code",
   "execution_count": 49,
   "metadata": {
    "scrolled": true
   },
   "outputs": [
    {
     "data": {
      "image/png": "[encoded data removed]",
      "text/plain": [
       "<Figure size 432x288 with 1 Axes>"
      ]
     },
     "metadata": {
      "needs_background": "light"
     },
     "output_type": "display_data"
    }
   ],
   "source": [
    "# Plotting model training accuracies\n",
    "plt.plot(com_model.history.epoch, com_model.history.history['acc'])\n",
    "plt.plot(txt_model.history.epoch, txt_model.history.history['acc'])\n",
    "plt.gca().legend(('meme model acc', 'text model acc'))\n",
    "plt.xlabel('epoch')\n",
    "plt.ylabel('training accuracy')\n",
    "plt.show()"
   ]
  },
  {
   "cell_type": "code",
   "execution_count": 48,
   "metadata": {
    "scrolled": true
   },
   "outputs": [
    {
     "data": {
      "image/png": "[encoded data removed]",
      "text/plain": [
       "<Figure size 432x288 with 1 Axes>"
      ]
     },
     "metadata": {
      "needs_background": "light"
     },
     "output_type": "display_data"
    }
   ],
   "source": [
    "# Plotting model validation accuracies\n",
    "plt.plot(com_model.history.epoch, com_model.history.history['val_acc'])\n",
    "plt.plot(txt_model.history.epoch, txt_model.history.history['val_acc'])\n",
    "plt.gca().legend(('meme model validation acc', 'text model validation acc'))\n",
    "plt.xlabel('epoch')\n",
    "plt.ylabel('validaion accuracy')\n",
    "plt.show()"
   ]
  },
  {
   "cell_type": "code",
   "execution_count": 50,
   "metadata": {},
   "outputs": [
    {
     "data": {
      "text/plain": [
       "[0.6928750096551524, 0.48322147651006714]"
      ]
     },
     "execution_count": 50,
     "metadata": {},
     "output_type": "execute_result"
    }
   ],
   "source": [
    "# Loss and accuracy for combined model\n",
    "com_model.evaluate_generator(img_txt_gen_test, steps=149)"
   ]
  },
  {
   "cell_type": "code",
   "execution_count": 51,
   "metadata": {},
   "outputs": [
    {
     "data": {
      "text/plain": [
       "[0.7369132627976821, 0.6040268456375839]"
      ]
     },
     "execution_count": 51,
     "metadata": {},
     "output_type": "execute_result"
    }
   ],
   "source": [
    "# Loss and accuracy for text model\n",
    "txt_model.evaluate_generator(txt_gen_test, steps=149)"
   ]
  },
  {
   "cell_type": "code",
   "execution_count": 45,
   "metadata": {},
   "outputs": [],
   "source": [
    "from sklearn.metrics import precision_recall_fscore_support"
   ]
  },
  {
   "cell_type": "code",
   "execution_count": 52,
   "metadata": {},
   "outputs": [
    {
     "data": {
      "text/plain": [
       "(0.3968253968253968, 0.847457627118644, 0.5405405405405406, None)"
      ]
     },
     "execution_count": 52,
     "metadata": {},
     "output_type": "execute_result"
    }
   ],
   "source": [
    "# for txt\n",
    "precision_recall_fscore_support(y_true, y_pred_txt, beta=1.0, labels=None, pos_label=1, average='binary')"
   ]
  },
  {
   "cell_type": "code",
   "execution_count": 53,
   "metadata": {},
   "outputs": [
    {
     "data": {
      "text/plain": [
       "(0.38095238095238093, 0.6779661016949152, 0.4878048780487805, None)"
      ]
     },
     "execution_count": 53,
     "metadata": {},
     "output_type": "execute_result"
    }
   ],
   "source": [
    "# com model\n",
    "precision_recall_fscore_support(y_true, y_pred_com, beta=1.0, labels=None, pos_label=1, average='binary')"
   ]
  }
 ],
 "metadata": {
  "kernelspec": {
   "display_name": "Python 3",
   "language": "python",
   "name": "python3"
  },
  "language_info": {
   "codemirror_mode": {
    "name": "ipython",
    "version": 3
   },
   "file_extension": ".py",
   "mimetype": "text/x-python",
   "name": "python",
   "nbconvert_exporter": "python",
   "pygments_lexer": "ipython3",
   "version": "3.7.4"
  }
 },
 "nbformat": 4,
 "nbformat_minor": 2
}
